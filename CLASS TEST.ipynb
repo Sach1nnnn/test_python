{
 "cells": [
  {
   "cell_type": "markdown",
   "id": "4d5d628c-bfa9-4e7c-9c3b-2a3071bda2e3",
   "metadata": {},
   "source": [
    "# q_no1"
   ]
  },
  {
   "cell_type": "code",
   "execution_count": 11,
   "id": "e066a01c-85e5-41fb-a869-b09c7a6f2a03",
   "metadata": {},
   "outputs": [
    {
     "name": "stdin",
     "output_type": "stream",
     "text": [
      "Enter the year:  2025\n"
     ]
    },
    {
     "name": "stdout",
     "output_type": "stream",
     "text": [
      "Not a leap year\n"
     ]
    }
   ],
   "source": [
    "def check_leap_year():\n",
    "    try:\n",
    "        year = int(input(\"Enter the year: \"))\n",
    "        if (year % 4 == 0 and year % 100 != 0) or (year % 400 == 0):\n",
    "            return \"Leap year\"\n",
    "        else:\n",
    "            return \"Not a leap year\"\n",
    "    except ValueError:\n",
    "        return \"Only numbers are allowed\"\n",
    "result = check_leap_year()\n",
    "print(result)\n"
   ]
  },
  {
   "cell_type": "code",
   "execution_count": null,
   "id": "bbe50698-3733-41fc-990b-7f5cd849f653",
   "metadata": {},
   "outputs": [],
   "source": []
  },
  {
   "cell_type": "markdown",
   "id": "b12a03b5-98b4-4cd3-9d49-734089b3ff0b",
   "metadata": {},
   "source": [
    "# qno_2"
   ]
  },
  {
   "cell_type": "code",
   "execution_count": 19,
   "id": "8cc6d7a7-985d-44dc-a8ab-b9f1649f5d24",
   "metadata": {},
   "outputs": [
    {
     "name": "stdout",
     "output_type": "stream",
     "text": [
      "prime numbers between 1-1000 are:\n",
      "[2, 3, 5, 7, 11, 13, 17, 19, 23, 29, 31, 37, 41, 43, 47, 53, 59, 61, 67, 71, 73, 79, 83, 89, 97, 101, 103, 107, 109, 113, 127, 131, 137, 139, 149, 151, 157, 163, 167, 173, 179, 181, 191, 193, 197, 199, 211, 223, 227, 229, 233, 239, 241, 251, 257, 263, 269, 271, 277, 281, 283, 293, 307, 311, 313, 317, 331, 337, 347, 349, 353, 359, 367, 373, 379, 383, 389, 397, 401, 409, 419, 421, 431, 433, 439, 443, 449, 457, 461, 463, 467, 479, 487, 491, 499, 503, 509, 521, 523, 541, 547, 557, 563, 569, 571, 577, 587, 593, 599, 601, 607, 613, 617, 619, 631, 641, 643, 647, 653, 659, 661, 673, 677, 683, 691, 701, 709, 719, 727, 733, 739, 743, 751, 757, 761, 769, 773, 787, 797, 809, 811, 821, 823, 827, 829, 839, 853, 857, 859, 863, 877, 881, 883, 887, 907, 911, 919, 929, 937, 941, 947, 953, 967, 971, 977, 983, 991, 997]\n"
     ]
    }
   ],
   "source": [
    "prime_number = []\n",
    "for num in range(2,1001):\n",
    "    is_prime = True\n",
    "    for i in range(2,int(num**0.5)+1):\n",
    "        if num % i == 0:\n",
    "            is_prime = False\n",
    "            break\n",
    "\n",
    "    if is_prime:\n",
    "        prime_number.append(num)\n",
    "\n",
    "print(\"prime numbers between 1-1000 are:\")\n",
    "print(prime_number)\n",
    "            "
   ]
  },
  {
   "cell_type": "code",
   "execution_count": null,
   "id": "a2bd5d7f-23c5-4720-accd-8581c35032e0",
   "metadata": {},
   "outputs": [],
   "source": []
  },
  {
   "cell_type": "code",
   "execution_count": null,
   "id": "10358e42-97a4-43fd-aa03-8a239110a0ba",
   "metadata": {},
   "outputs": [],
   "source": []
  },
  {
   "cell_type": "markdown",
   "id": "5b48f14f-17e1-47f2-ad5e-76b849d9c19e",
   "metadata": {},
   "source": [
    "# q_no3"
   ]
  },
  {
   "cell_type": "code",
   "execution_count": 23,
   "id": "97e59ae9-1339-485e-89ac-32cf368a5164",
   "metadata": {},
   "outputs": [
    {
     "name": "stdin",
     "output_type": "stream",
     "text": [
      "Enter a number:  5\n"
     ]
    },
    {
     "name": "stdout",
     "output_type": "stream",
     "text": [
      "The factorial of 5 is 120\n"
     ]
    }
   ],
   "source": [
    "def find_factorial(n):\n",
    "    if n <= 1:\n",
    "        return 1\n",
    "    else:\n",
    "        return n * find_factorial(n - 1)\n",
    "\n",
    "try:\n",
    "    number = int(input(\"Enter a number: \"))\n",
    "    if number < 0:\n",
    "        print(\"Factorial does not exist for negative numbers.\")\n",
    "    else:\n",
    "        print(f\"The factorial of {number} is {find_factorial(number)}\")\n",
    "except ValueError:\n",
    "    print(\"Only numbers are allowed.\")"
   ]
  },
  {
   "cell_type": "code",
   "execution_count": null,
   "id": "74dbfd73-ff47-4f32-9cf9-51f0f0263bef",
   "metadata": {},
   "outputs": [],
   "source": []
  },
  {
   "cell_type": "code",
   "execution_count": null,
   "id": "6277369b-3ea5-40db-a32d-8dfceaec15ae",
   "metadata": {},
   "outputs": [],
   "source": [
    "num1 = int(input(\"enter the first number\"))\n",
    "num2 = int(input(\"enter the second number\"))\n",
    "\n",
    "while num2 !=0:\n",
    "    remainder = num1 % num2\n",
    "    num1 = num2\n",
    "    num2 = remainder\n",
    "print(th"
   ]
  }
 ],
 "metadata": {
  "kernelspec": {
   "display_name": "Python 3 (ipykernel)",
   "language": "python",
   "name": "python3"
  },
  "language_info": {
   "codemirror_mode": {
    "name": "ipython",
    "version": 3
   },
   "file_extension": ".py",
   "mimetype": "text/x-python",
   "name": "python",
   "nbconvert_exporter": "python",
   "pygments_lexer": "ipython3",
   "version": "3.12.7"
  }
 },
 "nbformat": 4,
 "nbformat_minor": 5
}
